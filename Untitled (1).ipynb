{
 "cells": [
  {
   "cell_type": "code",
   "execution_count": null,
   "id": "f4b0c4b0-4d87-452d-b82a-0ab0b57ff8ca",
   "metadata": {},
   "outputs": [],
   "source": [
    "import random"
   ]
  },
  {
   "cell_type": "code",
   "execution_count": 19,
   "id": "fdd70b28-9479-4a37-ae5d-6b5d93e3da7b",
   "metadata": {},
   "outputs": [
    {
     "name": "stdout",
     "output_type": "stream",
     "text": [
      "6\n"
     ]
    }
   ],
   "source": [
    "print(random.randint(1, 6))"
   ]
  },
  {
   "cell_type": "code",
   "execution_count": 20,
   "id": "bc79f7cc-6026-4399-87ee-a31482167f2c",
   "metadata": {},
   "outputs": [],
   "source": [
    "import seaborn as sns\n",
    "import matplotlib.pyplot as plt"
   ]
  },
  {
   "cell_type": "code",
   "execution_count": 26,
   "id": "8fb0cdd0-6af6-48f5-8c68-cad20c5ebf42",
   "metadata": {},
   "outputs": [
    {
     "name": "stderr",
     "output_type": "stream",
     "text": [
      "/opt/conda/envs/anaconda-ai-2024.04-py310/lib/python3.10/site-packages/seaborn/_oldcore.py:1119: FutureWarning: use_inf_as_na option is deprecated and will be removed in a future version. Convert inf values to NaN before operating instead.\n",
      "  with pd.option_context('mode.use_inf_as_na', True):\n"
     ]
    },
    {
     "data": {
      "image/png": "[encoded data removed]",
      "text/plain": [
       "<Figure size 640x480 with 1 Axes>"
      ]
     },
     "metadata": {},
     "output_type": "display_data"
    }
   ],
   "source": [
    "rolls = [random.randint(1, 6) for _ in range(100)]\n",
    "\n",
    "# Set Seaborn style (optional)\n",
    "sns.set(style=\"whitegrid\")\n",
    "\n",
    "# Create a histogram using Seaborn\n",
    "sns.histplot(rolls, bins=range(1, 8), discrete=True, kde=False)\n",
    "\n",
    "plt.title(\"Distribution of 100 Dice Rolls\")\n",
    "plt.xlabel(\"Dice Value\")\n",
    "plt.ylabel(\"Frequency\")\n",
    "plt.xticks(range(1, 7)) \n",
    "\n",
    "plt.show()"
   ]
  },
  {
   "cell_type": "code",
   "execution_count": null,
   "id": "ce19f8e2-c4f8-4c50-a2b9-36be805ec715",
   "metadata": {},
   "outputs": [],
   "source": [
    "import random"
   ]
  },
  {
   "cell_type": "code",
   "execution_count": 27,
   "id": "d1eaa536-28fe-4dcf-a035-c7d864cf1e7f",
   "metadata": {},
   "outputs": [
    {
     "name": "stdout",
     "output_type": "stream",
     "text": [
      "2\n"
     ]
    }
   ],
   "source": [
    "print(random.randint(1, 6))"
   ]
  },
  {
   "cell_type": "code",
   "execution_count": 28,
   "id": "329a2ab7-95e8-4272-be01-c7ee878462e0",
   "metadata": {},
   "outputs": [
    {
     "name": "stdout",
     "output_type": "stream",
     "text": [
      "1\n",
      "1\n",
      "3\n",
      "1\n",
      "5\n",
      "6\n",
      "6\n",
      "1\n",
      "2\n",
      "6\n",
      "1\n",
      "1\n",
      "2\n",
      "2\n",
      "5\n",
      "3\n",
      "6\n",
      "1\n",
      "2\n",
      "4\n",
      "1\n",
      "6\n",
      "4\n",
      "4\n",
      "4\n",
      "2\n",
      "4\n",
      "6\n",
      "1\n",
      "2\n",
      "2\n",
      "2\n",
      "1\n",
      "6\n",
      "5\n",
      "2\n",
      "3\n",
      "2\n",
      "4\n",
      "5\n",
      "4\n",
      "2\n",
      "4\n",
      "4\n",
      "5\n",
      "6\n",
      "2\n",
      "3\n",
      "2\n",
      "4\n",
      "2\n",
      "6\n",
      "1\n",
      "4\n",
      "5\n",
      "2\n",
      "5\n",
      "3\n",
      "1\n",
      "3\n",
      "5\n",
      "2\n",
      "4\n",
      "1\n",
      "5\n",
      "5\n",
      "5\n",
      "6\n",
      "1\n",
      "1\n",
      "4\n",
      "5\n",
      "5\n",
      "5\n",
      "6\n",
      "4\n",
      "3\n",
      "6\n",
      "1\n",
      "4\n",
      "6\n",
      "5\n",
      "1\n",
      "2\n",
      "3\n",
      "5\n",
      "6\n",
      "5\n",
      "5\n",
      "5\n",
      "2\n",
      "1\n",
      "4\n",
      "1\n",
      "6\n",
      "1\n",
      "2\n",
      "5\n",
      "1\n",
      "6\n"
     ]
    }
   ],
   "source": [
    "for i in range (0, 100):\n",
    "    print(random.randint(1, 6))"
   ]
  },
  {
   "cell_type": "code",
   "execution_count": null,
   "id": "d0ba2f50-1d8a-4fd7-9ae4-9f6ac90e431e",
   "metadata": {},
   "outputs": [],
   "source": [
    "import seaborn as sns "
   ]
  }
 ],
 "metadata": {
  "kernelspec": {
   "display_name": "anaconda-ai-2024.04-py310",
   "language": "python",
   "name": "conda-env-anaconda-ai-2024.04-py310-py"
  },
  "language_info": {
   "codemirror_mode": {
    "name": "ipython",
    "version": 3
   },
   "file_extension": ".py",
   "mimetype": "text/x-python",
   "name": "python",
   "nbconvert_exporter": "python",
   "pygments_lexer": "ipython3",
   "version": "3.10.13"
  }
 },
 "nbformat": 4,
 "nbformat_minor": 5
}
