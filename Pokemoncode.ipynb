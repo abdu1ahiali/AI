{
 "cells": [
  {
   "cell_type": "markdown",
   "id": "02d0a5be-7d18-41be-933b-7e65fda17569",
   "metadata": {},
   "source": [
    "How does chaizards speed compare to other first generation pokemons on avergage."
   ]
  },
  {
   "cell_type": "code",
   "execution_count": null,
   "id": "40499063-0a69-4d28-91ff-4403bdc40e6a",
   "metadata": {},
   "outputs": [],
   "source": [
    "census of all first generation pokemon \n",
    "some biases could be that some of the pokemon arent fully evoloved \n",
    "giving the average I get an overesimation due to charizards unfair advantage."
   ]
  },
  {
   "cell_type": "code",
   "execution_count": 1,
   "id": "343b1998-e233-4a65-9f19-f63c9f2775c2",
   "metadata": {},
   "outputs": [],
   "source": [
    "import pandas as pd\n",
    "import matplotlib.pyplot as plt\n",
    "import seaborn as sns"
   ]
  },
  {
   "cell_type": "code",
   "execution_count": 4,
   "id": "c6e1d0d8-e1e7-408c-bffb-1344fff0676c",
   "metadata": {},
   "outputs": [
    {
     "name": "stdout",
     "output_type": "stream",
     "text": [
      "First 5 rows:\n"
     ]
    },
    {
     "data": {
      "text/html": [
       "<div>\n",
       "<style scoped>\n",
       "    .dataframe tbody tr th:only-of-type {\n",
       "        vertical-align: middle;\n",
       "    }\n",
       "\n",
       "    .dataframe tbody tr th {\n",
       "        vertical-align: top;\n",
       "    }\n",
       "\n",
       "    .dataframe thead th {\n",
       "        text-align: right;\n",
       "    }\n",
       "</style>\n",
       "<table border=\"1\" class=\"dataframe\">\n",
       "  <thead>\n",
       "    <tr style=\"text-align: right;\">\n",
       "      <th></th>\n",
       "      <th>name</th>\n",
       "      <th>pokedex_number</th>\n",
       "      <th>abilities</th>\n",
       "      <th>attack</th>\n",
       "      <th>capture_rate</th>\n",
       "      <th>classfication</th>\n",
       "      <th>defense</th>\n",
       "      <th>height_m</th>\n",
       "      <th>hp</th>\n",
       "      <th>sp_attack</th>\n",
       "      <th>sp_defense</th>\n",
       "      <th>speed</th>\n",
       "      <th>type1</th>\n",
       "      <th>type2</th>\n",
       "      <th>weight_kg</th>\n",
       "      <th>generation</th>\n",
       "      <th>is_legendary</th>\n",
       "    </tr>\n",
       "  </thead>\n",
       "  <tbody>\n",
       "    <tr>\n",
       "      <th>0</th>\n",
       "      <td>Minior</td>\n",
       "      <td>774</td>\n",
       "      <td>['Shields Down']</td>\n",
       "      <td>100</td>\n",
       "      <td>30 (Meteorite)255 (Core)</td>\n",
       "      <td>Meteor Pokémon</td>\n",
       "      <td>60</td>\n",
       "      <td>0.3</td>\n",
       "      <td>60</td>\n",
       "      <td>100</td>\n",
       "      <td>60</td>\n",
       "      <td>120</td>\n",
       "      <td>rock</td>\n",
       "      <td>flying</td>\n",
       "      <td>40.0</td>\n",
       "      <td>7</td>\n",
       "      <td>0</td>\n",
       "    </tr>\n",
       "    <tr>\n",
       "      <th>1</th>\n",
       "      <td>Pheromosa</td>\n",
       "      <td>795</td>\n",
       "      <td>['Beast Boost']</td>\n",
       "      <td>137</td>\n",
       "      <td>255</td>\n",
       "      <td>Lissome Pokémon</td>\n",
       "      <td>37</td>\n",
       "      <td>1.8</td>\n",
       "      <td>71</td>\n",
       "      <td>137</td>\n",
       "      <td>37</td>\n",
       "      <td>151</td>\n",
       "      <td>bug</td>\n",
       "      <td>fighting</td>\n",
       "      <td>25.0</td>\n",
       "      <td>7</td>\n",
       "      <td>1</td>\n",
       "    </tr>\n",
       "    <tr>\n",
       "      <th>2</th>\n",
       "      <td>Kartana</td>\n",
       "      <td>798</td>\n",
       "      <td>['Beast Boost']</td>\n",
       "      <td>181</td>\n",
       "      <td>255</td>\n",
       "      <td>Drawn Sword Pokémon</td>\n",
       "      <td>131</td>\n",
       "      <td>0.3</td>\n",
       "      <td>59</td>\n",
       "      <td>59</td>\n",
       "      <td>31</td>\n",
       "      <td>109</td>\n",
       "      <td>grass</td>\n",
       "      <td>steel</td>\n",
       "      <td>0.1</td>\n",
       "      <td>7</td>\n",
       "      <td>1</td>\n",
       "    </tr>\n",
       "    <tr>\n",
       "      <th>3</th>\n",
       "      <td>Poliwag</td>\n",
       "      <td>60</td>\n",
       "      <td>['Water Absorb', 'Damp', 'Swift Swim']</td>\n",
       "      <td>50</td>\n",
       "      <td>255</td>\n",
       "      <td>Tadpole Pokémon</td>\n",
       "      <td>40</td>\n",
       "      <td>0.6</td>\n",
       "      <td>40</td>\n",
       "      <td>40</td>\n",
       "      <td>40</td>\n",
       "      <td>90</td>\n",
       "      <td>water</td>\n",
       "      <td>NaN</td>\n",
       "      <td>12.4</td>\n",
       "      <td>1</td>\n",
       "      <td>0</td>\n",
       "    </tr>\n",
       "    <tr>\n",
       "      <th>4</th>\n",
       "      <td>Diglett</td>\n",
       "      <td>50</td>\n",
       "      <td>['Sand Veil', 'Arena Trap', 'Sand Force', 'San...</td>\n",
       "      <td>55</td>\n",
       "      <td>255</td>\n",
       "      <td>Mole Pokémon</td>\n",
       "      <td>30</td>\n",
       "      <td>NaN</td>\n",
       "      <td>10</td>\n",
       "      <td>35</td>\n",
       "      <td>45</td>\n",
       "      <td>90</td>\n",
       "      <td>ground</td>\n",
       "      <td>ground</td>\n",
       "      <td>NaN</td>\n",
       "      <td>1</td>\n",
       "      <td>0</td>\n",
       "    </tr>\n",
       "  </tbody>\n",
       "</table>\n",
       "</div>"
      ],
      "text/plain": [
       "        name  pokedex_number  \\\n",
       "0     Minior             774   \n",
       "1  Pheromosa             795   \n",
       "2    Kartana             798   \n",
       "3    Poliwag              60   \n",
       "4    Diglett              50   \n",
       "\n",
       "                                           abilities  attack  \\\n",
       "0                                   ['Shields Down']     100   \n",
       "1                                    ['Beast Boost']     137   \n",
       "2                                    ['Beast Boost']     181   \n",
       "3             ['Water Absorb', 'Damp', 'Swift Swim']      50   \n",
       "4  ['Sand Veil', 'Arena Trap', 'Sand Force', 'San...      55   \n",
       "\n",
       "               capture_rate        classfication  defense  height_m  hp  \\\n",
       "0  30 (Meteorite)255 (Core)       Meteor Pokémon       60       0.3  60   \n",
       "1                       255      Lissome Pokémon       37       1.8  71   \n",
       "2                       255  Drawn Sword Pokémon      131       0.3  59   \n",
       "3                       255      Tadpole Pokémon       40       0.6  40   \n",
       "4                       255         Mole Pokémon       30       NaN  10   \n",
       "\n",
       "   sp_attack  sp_defense  speed   type1     type2  weight_kg  generation  \\\n",
       "0        100          60    120    rock    flying       40.0           7   \n",
       "1        137          37    151     bug  fighting       25.0           7   \n",
       "2         59          31    109   grass     steel        0.1           7   \n",
       "3         40          40     90   water       NaN       12.4           1   \n",
       "4         35          45     90  ground    ground        NaN           1   \n",
       "\n",
       "   is_legendary  \n",
       "0             0  \n",
       "1             1  \n",
       "2             1  \n",
       "3             0  \n",
       "4             0  "
      ]
     },
     "metadata": {},
     "output_type": "display_data"
    }
   ],
   "source": [
    "df = pd.read_csv('pokemon.csv')\n",
    "print(\"First 5 rows:\")\n",
    "display(df.head())"
   ]
  },
  {
   "cell_type": "code",
   "execution_count": 16,
   "id": "ad9744cc-a99a-41f0-89c2-2b516ddfc8e7",
   "metadata": {},
   "outputs": [
    {
     "data": {
      "text/plain": [
       "Index(['name', 'pokedex_number', 'abilities', 'attack', 'capture_rate',\n",
       "       'classfication', 'defense', 'height_m', 'hp', 'sp_attack', 'sp_defense',\n",
       "       'speed', 'type1', 'type2', 'weight_kg', 'generation', 'is_legendary'],\n",
       "      dtype='object')"
      ]
     },
     "execution_count": 16,
     "metadata": {},
     "output_type": "execute_result"
    }
   ],
   "source": [
    "pokemon = pd.read_csv(\"pokemon.csv\")\n",
    "pokemon.columns"
   ]
  },
  {
   "cell_type": "code",
   "execution_count": 17,
   "id": "ccc9849a-665d-4aaa-975c-2c58b1e28db2",
   "metadata": {},
   "outputs": [
    {
     "name": "stderr",
     "output_type": "stream",
     "text": [
      "/opt/conda/envs/anaconda-ai-2024.04-py310/lib/python3.10/site-packages/seaborn/_oldcore.py:1119: FutureWarning: use_inf_as_na option is deprecated and will be removed in a future version. Convert inf values to NaN before operating instead.\n",
      "  with pd.option_context('mode.use_inf_as_na', True):\n"
     ]
    },
    {
     "data": {
      "text/plain": [
       "<Axes: xlabel='speed', ylabel='Count'>"
      ]
     },
     "execution_count": 17,
     "metadata": {},
     "output_type": "execute_result"
    },
    {
     "data": {
      "image/png": "[encoded data removed]",
      "text/plain": [
       "<Figure size 640x480 with 1 Axes>"
      ]
     },
     "metadata": {},
     "output_type": "display_data"
    }
   ],
   "source": [
    "sns.histplot(data=pokemon, x=\"speed\")"
   ]
  },
  {
   "cell_type": "code",
   "execution_count": 19,
   "id": "a679b5d0-fa9f-4383-b360-f101ba643635",
   "metadata": {},
   "outputs": [
    {
     "data": {
      "text/plain": [
       "66.33458177278402"
      ]
     },
     "execution_count": 19,
     "metadata": {},
     "output_type": "execute_result"
    }
   ],
   "source": [
    "pokemon[\"speed\"].mean()"
   ]
  },
  {
   "cell_type": "code",
   "execution_count": null,
   "id": "356a19a4-a505-4c50-9838-53de50873596",
   "metadata": {},
   "outputs": [],
   "source": [
    "df = pd.read_csv(\"pokemon.csv\")\n",
    "std_deviation = df.std()\n",
    "print(std_deviation)"
   ]
  },
  {
   "cell_type": "code",
   "execution_count": 2,
   "id": "50d8553a-13a0-48ad-9e70-860efd50dc26",
   "metadata": {},
   "outputs": [
    {
     "name": "stdout",
     "output_type": "stream",
     "text": [
      "\n",
      "Charizard's speed: 100\n",
      "Average speed of all first-generation Pokémon: 70.15\n",
      "\n",
      "Charizard is 29.85 speed points faster than the average Gen 1 Pokémon.\n"
     ]
    },
    {
     "data": {
      "image/png": "[encoded data removed]",
      "text/plain": [
       "<Figure size 800x500 with 1 Axes>"
      ]
     },
     "metadata": {},
     "output_type": "display_data"
    }
   ],
   "source": [
    "import pandas as pd\n",
    "import matplotlib.pyplot as plt\n",
    "import seaborn as sns\n",
    "\n",
    "# Load dataset\n",
    "df = pd.read_csv('pokemon.csv')\n",
    "\n",
    "# Standardize column names (optional but useful)\n",
    "df.columns = df.columns.str.lower()\n",
    "\n",
    "# Define key columns\n",
    "name_col = 'name'\n",
    "speed_col = 'speed'\n",
    "gen_col = 'generation'\n",
    "\n",
    "# --- Step 1: Get Charizard's speed ---\n",
    "charizard_row = df[df[name_col].str.lower() == 'charizard']\n",
    "if not charizard_row.empty:\n",
    "    charizard_speed = charizard_row.iloc[0][speed_col]\n",
    "    print(f\"\\nCharizard's speed: {charizard_speed}\")\n",
    "else:\n",
    "    raise ValueError(\"Charizard not found in the dataset.\")\n",
    "\n",
    "# --- Step 2: Get all Gen 1 Pokémon and calculate average speed ---\n",
    "gen1_df = df[df[gen_col] == 1]\n",
    "avg_speed = gen1_df[speed_col].mean()\n",
    "print(f\"Average speed of all first-generation Pokémon: {avg_speed:.2f}\")\n",
    "\n",
    "# --- Step 3: Compare ---\n",
    "diff = charizard_speed - avg_speed\n",
    "comparison = \"faster than\" if diff > 0 else \"slower than\" if diff < 0 else \"equal to\"\n",
    "print(f\"\\nCharizard is {abs(diff):.2f} speed points {comparison} the average Gen 1 Pokémon.\")\n",
    "\n",
    "# --- Optional: Visualization ---\n",
    "plt.figure(figsize=(8, 5))\n",
    "sns.boxplot(data=gen1_df, x=speed_col, color='lightblue')\n",
    "plt.axvline(charizard_speed, color='red', linestyle='--', label=\"Charizard's Speed\")\n",
    "plt.title('Charizard vs All Gen 1 Pokémon Speed')\n",
    "plt.xlabel('Speed')\n",
    "plt.legend()\n",
    "plt.grid(True)\n",
    "plt.tight_layout()\n",
    "plt.show()\n"
   ]
  },
  {
   "cell_type": "code",
   "execution_count": 9,
   "id": "f59c4703-fc37-4af8-b842-ac812fc47d25",
   "metadata": {},
   "outputs": [
    {
     "name": "stderr",
     "output_type": "stream",
     "text": [
      "/opt/conda/envs/anaconda-ai-2024.04-py310/lib/python3.10/site-packages/seaborn/_oldcore.py:1119: FutureWarning: use_inf_as_na option is deprecated and will be removed in a future version. Convert inf values to NaN before operating instead.\n",
      "  with pd.option_context('mode.use_inf_as_na', True):\n"
     ]
    },
    {
     "data": {
      "image/png": "[encoded data removed]",
      "text/plain": [
       "<Figure size 640x480 with 1 Axes>"
      ]
     },
     "metadata": {},
     "output_type": "display_data"
    }
   ],
   "source": [
    "import pandas as pd\n",
    "import seaborn as sns\n",
    "import matplotlib.pyplot as plt\n",
    "\n",
    "# Load the data\n",
    "pokemon = pd.read_csv(\"pokemon.csv\")\n",
    "\n",
    "# Optional: clean the data\n",
    "pokemon = pokemon.replace([np.inf, -np.inf], np.nan).dropna(subset=[\"speed\"])\n",
    "\n",
    "# Get Charizard's speed\n",
    "charizard_row = pokemon[pokemon[\"name\"].str.lower() == \"charizard\"]\n",
    "if not charizard_row.empty:\n",
    "    charizard_speed = charizard_row[\"speed\"].values[0]\n",
    "else:\n",
    "    raise ValueError(\"Charizard not found in the dataset!\")\n",
    "\n",
    "# Plot density\n",
    "sns.kdeplot(data=pokemon, x=\"speed\", fill=True)\n",
    "\n",
    "# Add vertical line for Charizard's speed\n",
    "plt.axvline(charizard_speed, color='red', linestyle='--', linewidth=2, label=f\"Charizard ({charizard_speed})\")\n",
    "\n",
    "# Add labels and legend\n",
    "plt.title(\"Density Plot of Pokémon Speed\")\n",
    "plt.xlabel(\"Speed\")\n",
    "plt.ylabel(\"Density\")\n",
    "plt.legend()\n",
    "plt.show()\n"
   ]
  },
  {
   "cell_type": "code",
   "execution_count": 10,
   "id": "9e4e8ef3-222d-4bd9-adf7-9fa9b5a521da",
   "metadata": {},
   "outputs": [
    {
     "name": "stdout",
     "output_type": "stream",
     "text": [
      "Charizard's speed: 100\n",
      "Mean speed: 66.33\n",
      "Standard deviation of speed: 28.91\n",
      "Charizard's z-score: 1.16\n"
     ]
    }
   ],
   "source": [
    "import pandas as pd\n",
    "\n",
    "# Load the dataset\n",
    "pokemon = pd.read_csv(\"pokemon.csv\")\n",
    "\n",
    "# Clean the data (remove NaN or inf values in speed)\n",
    "pokemon = pokemon.replace([float(\"inf\"), float(\"-inf\")], pd.NA).dropna(subset=[\"speed\"])\n",
    "\n",
    "# Get mean and standard deviation of speed\n",
    "mean_speed = pokemon[\"speed\"].mean()\n",
    "std_speed = pokemon[\"speed\"].std()\n",
    "\n",
    "# Find Charizard's speed\n",
    "charizard_row = pokemon[pokemon[\"name\"].str.lower() == \"charizard\"]\n",
    "if not charizard_row.empty:\n",
    "    charizard_speed = charizard_row[\"speed\"].values[0]\n",
    "    z_score = (charizard_speed - mean_speed) / std_speed\n",
    "    print(f\"Charizard's speed: {charizard_speed}\")\n",
    "    print(f\"Mean speed: {mean_speed:.2f}\")\n",
    "    print(f\"Standard deviation of speed: {std_speed:.2f}\")\n",
    "    print(f\"Charizard's z-score: {z_score:.2f}\")\n",
    "else:\n",
    "    print(\"Charizard not found in the dataset.\")"
   ]
  },
  {
   "cell_type": "code",
   "execution_count": 11,
   "id": "a2ebaf52-3d10-49dc-a7d3-b002ad62438d",
   "metadata": {},
   "outputs": [
    {
     "name": "stdout",
     "output_type": "stream",
     "text": [
      "Charizard's speed percentile: 84.77th percentile\n"
     ]
    }
   ],
   "source": [
    "import pandas as pd\n",
    "\n",
    "pokemon = pd.read_csv(\"pokemon.csv\")\n",
    "\n",
    "# Clean data\n",
    "pokemon = pokemon.replace([float('inf'), float('-inf')], pd.NA).dropna(subset=['speed'])\n",
    "\n",
    "# Get Charizard's speed\n",
    "charizard_speed = pokemon.loc[pokemon[\"name\"].str.lower() == \"charizard\", \"speed\"].values[0]\n",
    "\n",
    "# Calculate percentile rank of Charizard's speed among all Pokémon\n",
    "percentile = (pokemon[\"speed\"] < charizard_speed).mean() * 100\n",
    "\n",
    "print(f\"Charizard's speed percentile: {percentile:.2f}th percentile\")"
   ]
  },
  {
   "cell_type": "markdown",
   "id": "e818a54e-bf39-4e9f-8492-8652d336b8ab",
   "metadata": {},
   "source": [
    "In conclusion Charizards speed in much faster then other first generation pokemons my quite a large margin, Charizards speed is at 100 while the mean speed for first generation pokemons is 66.3. Moreso according to my SD finds Charizard is 1.16 standard deviations away from the mean number making him significantly faster then avarage and is in the 84.77th percentile speed wise."
   ]
  }
 ],
 "metadata": {
  "kernelspec": {
   "display_name": "anaconda-ai-2024.04-py310",
   "language": "python",
   "name": "conda-env-anaconda-ai-2024.04-py310-py"
  },
  "language_info": {
   "codemirror_mode": {
    "name": "ipython",
    "version": 3
   },
   "file_extension": ".py",
   "mimetype": "text/x-python",
   "name": "python",
   "nbconvert_exporter": "python",
   "pygments_lexer": "ipython3",
   "version": "3.10.13"
  }
 },
 "nbformat": 4,
 "nbformat_minor": 5
}
