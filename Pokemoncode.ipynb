{
 "cells": [
  {
   "cell_type": "markdown",
   "id": "02d0a5be-7d18-41be-933b-7e65fda17569",
   "metadata": {},
   "source": [
    "How fast is charizard compared to evolved first generation pokemons on avergage."
   ]
  },
  {
   "cell_type": "code",
   "execution_count": 1,
   "id": "343b1998-e233-4a65-9f19-f63c9f2775c2",
   "metadata": {},
   "outputs": [],
   "source": [
    "import pandas as pd\n",
    "import matplotlib.pyplot as plt\n",
    "import seaborn as sns"
   ]
  },
  {
   "cell_type": "code",
   "execution_count": 4,
   "id": "c6e1d0d8-e1e7-408c-bffb-1344fff0676c",
   "metadata": {},
   "outputs": [
    {
     "name": "stdout",
     "output_type": "stream",
     "text": [
      "First 5 rows:\n"
     ]
    },
    {
     "data": {
      "text/html": [
       "<div>\n",
       "<style scoped>\n",
       "    .dataframe tbody tr th:only-of-type {\n",
       "        vertical-align: middle;\n",
       "    }\n",
       "\n",
       "    .dataframe tbody tr th {\n",
       "        vertical-align: top;\n",
       "    }\n",
       "\n",
       "    .dataframe thead th {\n",
       "        text-align: right;\n",
       "    }\n",
       "</style>\n",
       "<table border=\"1\" class=\"dataframe\">\n",
       "  <thead>\n",
       "    <tr style=\"text-align: right;\">\n",
       "      <th></th>\n",
       "      <th>name</th>\n",
       "      <th>pokedex_number</th>\n",
       "      <th>abilities</th>\n",
       "      <th>attack</th>\n",
       "      <th>capture_rate</th>\n",
       "      <th>classfication</th>\n",
       "      <th>defense</th>\n",
       "      <th>height_m</th>\n",
       "      <th>hp</th>\n",
       "      <th>sp_attack</th>\n",
       "      <th>sp_defense</th>\n",
       "      <th>speed</th>\n",
       "      <th>type1</th>\n",
       "      <th>type2</th>\n",
       "      <th>weight_kg</th>\n",
       "      <th>generation</th>\n",
       "      <th>is_legendary</th>\n",
       "    </tr>\n",
       "  </thead>\n",
       "  <tbody>\n",
       "    <tr>\n",
       "      <th>0</th>\n",
       "      <td>Minior</td>\n",
       "      <td>774</td>\n",
       "      <td>['Shields Down']</td>\n",
       "      <td>100</td>\n",
       "      <td>30 (Meteorite)255 (Core)</td>\n",
       "      <td>Meteor Pokémon</td>\n",
       "      <td>60</td>\n",
       "      <td>0.3</td>\n",
       "      <td>60</td>\n",
       "      <td>100</td>\n",
       "      <td>60</td>\n",
       "      <td>120</td>\n",
       "      <td>rock</td>\n",
       "      <td>flying</td>\n",
       "      <td>40.0</td>\n",
       "      <td>7</td>\n",
       "      <td>0</td>\n",
       "    </tr>\n",
       "    <tr>\n",
       "      <th>1</th>\n",
       "      <td>Pheromosa</td>\n",
       "      <td>795</td>\n",
       "      <td>['Beast Boost']</td>\n",
       "      <td>137</td>\n",
       "      <td>255</td>\n",
       "      <td>Lissome Pokémon</td>\n",
       "      <td>37</td>\n",
       "      <td>1.8</td>\n",
       "      <td>71</td>\n",
       "      <td>137</td>\n",
       "      <td>37</td>\n",
       "      <td>151</td>\n",
       "      <td>bug</td>\n",
       "      <td>fighting</td>\n",
       "      <td>25.0</td>\n",
       "      <td>7</td>\n",
       "      <td>1</td>\n",
       "    </tr>\n",
       "    <tr>\n",
       "      <th>2</th>\n",
       "      <td>Kartana</td>\n",
       "      <td>798</td>\n",
       "      <td>['Beast Boost']</td>\n",
       "      <td>181</td>\n",
       "      <td>255</td>\n",
       "      <td>Drawn Sword Pokémon</td>\n",
       "      <td>131</td>\n",
       "      <td>0.3</td>\n",
       "      <td>59</td>\n",
       "      <td>59</td>\n",
       "      <td>31</td>\n",
       "      <td>109</td>\n",
       "      <td>grass</td>\n",
       "      <td>steel</td>\n",
       "      <td>0.1</td>\n",
       "      <td>7</td>\n",
       "      <td>1</td>\n",
       "    </tr>\n",
       "    <tr>\n",
       "      <th>3</th>\n",
       "      <td>Poliwag</td>\n",
       "      <td>60</td>\n",
       "      <td>['Water Absorb', 'Damp', 'Swift Swim']</td>\n",
       "      <td>50</td>\n",
       "      <td>255</td>\n",
       "      <td>Tadpole Pokémon</td>\n",
       "      <td>40</td>\n",
       "      <td>0.6</td>\n",
       "      <td>40</td>\n",
       "      <td>40</td>\n",
       "      <td>40</td>\n",
       "      <td>90</td>\n",
       "      <td>water</td>\n",
       "      <td>NaN</td>\n",
       "      <td>12.4</td>\n",
       "      <td>1</td>\n",
       "      <td>0</td>\n",
       "    </tr>\n",
       "    <tr>\n",
       "      <th>4</th>\n",
       "      <td>Diglett</td>\n",
       "      <td>50</td>\n",
       "      <td>['Sand Veil', 'Arena Trap', 'Sand Force', 'San...</td>\n",
       "      <td>55</td>\n",
       "      <td>255</td>\n",
       "      <td>Mole Pokémon</td>\n",
       "      <td>30</td>\n",
       "      <td>NaN</td>\n",
       "      <td>10</td>\n",
       "      <td>35</td>\n",
       "      <td>45</td>\n",
       "      <td>90</td>\n",
       "      <td>ground</td>\n",
       "      <td>ground</td>\n",
       "      <td>NaN</td>\n",
       "      <td>1</td>\n",
       "      <td>0</td>\n",
       "    </tr>\n",
       "  </tbody>\n",
       "</table>\n",
       "</div>"
      ],
      "text/plain": [
       "        name  pokedex_number  \\\n",
       "0     Minior             774   \n",
       "1  Pheromosa             795   \n",
       "2    Kartana             798   \n",
       "3    Poliwag              60   \n",
       "4    Diglett              50   \n",
       "\n",
       "                                           abilities  attack  \\\n",
       "0                                   ['Shields Down']     100   \n",
       "1                                    ['Beast Boost']     137   \n",
       "2                                    ['Beast Boost']     181   \n",
       "3             ['Water Absorb', 'Damp', 'Swift Swim']      50   \n",
       "4  ['Sand Veil', 'Arena Trap', 'Sand Force', 'San...      55   \n",
       "\n",
       "               capture_rate        classfication  defense  height_m  hp  \\\n",
       "0  30 (Meteorite)255 (Core)       Meteor Pokémon       60       0.3  60   \n",
       "1                       255      Lissome Pokémon       37       1.8  71   \n",
       "2                       255  Drawn Sword Pokémon      131       0.3  59   \n",
       "3                       255      Tadpole Pokémon       40       0.6  40   \n",
       "4                       255         Mole Pokémon       30       NaN  10   \n",
       "\n",
       "   sp_attack  sp_defense  speed   type1     type2  weight_kg  generation  \\\n",
       "0        100          60    120    rock    flying       40.0           7   \n",
       "1        137          37    151     bug  fighting       25.0           7   \n",
       "2         59          31    109   grass     steel        0.1           7   \n",
       "3         40          40     90   water       NaN       12.4           1   \n",
       "4         35          45     90  ground    ground        NaN           1   \n",
       "\n",
       "   is_legendary  \n",
       "0             0  \n",
       "1             1  \n",
       "2             1  \n",
       "3             0  \n",
       "4             0  "
      ]
     },
     "metadata": {},
     "output_type": "display_data"
    }
   ],
   "source": [
    "df = pd.read_csv('pokemon.csv')\n",
    "print(\"First 5 rows:\")\n",
    "display(df.head())"
   ]
  },
  {
   "cell_type": "code",
   "execution_count": 16,
   "id": "ad9744cc-a99a-41f0-89c2-2b516ddfc8e7",
   "metadata": {},
   "outputs": [
    {
     "data": {
      "text/plain": [
       "Index(['name', 'pokedex_number', 'abilities', 'attack', 'capture_rate',\n",
       "       'classfication', 'defense', 'height_m', 'hp', 'sp_attack', 'sp_defense',\n",
       "       'speed', 'type1', 'type2', 'weight_kg', 'generation', 'is_legendary'],\n",
       "      dtype='object')"
      ]
     },
     "execution_count": 16,
     "metadata": {},
     "output_type": "execute_result"
    }
   ],
   "source": [
    "pokemon = pd.read_csv(\"pokemon.csv\")\n",
    "pokemon.columns"
   ]
  },
  {
   "cell_type": "code",
   "execution_count": 17,
   "id": "ccc9849a-665d-4aaa-975c-2c58b1e28db2",
   "metadata": {},
   "outputs": [
    {
     "name": "stderr",
     "output_type": "stream",
     "text": [
      "/opt/conda/envs/anaconda-ai-2024.04-py310/lib/python3.10/site-packages/seaborn/_oldcore.py:1119: FutureWarning: use_inf_as_na option is deprecated and will be removed in a future version. Convert inf values to NaN before operating instead.\n",
      "  with pd.option_context('mode.use_inf_as_na', True):\n"
     ]
    },
    {
     "data": {
      "text/plain": [
       "<Axes: xlabel='speed', ylabel='Count'>"
      ]
     },
     "execution_count": 17,
     "metadata": {},
     "output_type": "execute_result"
    },
    {
     "data": {
      "image/png": "[encoded data removed]",
      "text/plain": [
       "<Figure size 640x480 with 1 Axes>"
      ]
     },
     "metadata": {},
     "output_type": "display_data"
    }
   ],
   "source": [
    "sns.histplot(data=pokemon, x=\"speed\")"
   ]
  },
  {
   "cell_type": "code",
   "execution_count": 19,
   "id": "a679b5d0-fa9f-4383-b360-f101ba643635",
   "metadata": {},
   "outputs": [
    {
     "data": {
      "text/plain": [
       "66.33458177278402"
      ]
     },
     "execution_count": 19,
     "metadata": {},
     "output_type": "execute_result"
    }
   ],
   "source": [
    "pokemon[\"speed\"].mean()"
   ]
  },
  {
   "cell_type": "code",
   "execution_count": null,
   "id": "356a19a4-a505-4c50-9838-53de50873596",
   "metadata": {},
   "outputs": [],
   "source": [
    "df = pd.read_csv(\"pokemon.csv\")\n",
    "std_deviation = df.std()\n",
    "print(std_deviation)"
   ]
  },
  {
   "cell_type": "code",
   "execution_count": 1,
   "id": "50d8553a-13a0-48ad-9e70-860efd50dc26",
   "metadata": {},
   "outputs": [
    {
     "name": "stdout",
     "output_type": "stream",
     "text": [
      "\n",
      "Charizard's speed: 100\n"
     ]
    },
    {
     "ename": "KeyError",
     "evalue": "'evolution_stage'",
     "output_type": "error",
     "traceback": [
      "\u001b[0;31m---------------------------------------------------------------------------\u001b[0m",
      "\u001b[0;31mKeyError\u001b[0m                                  Traceback (most recent call last)",
      "File \u001b[0;32m/opt/conda/envs/anaconda-ai-2024.04-py310/lib/python3.10/site-packages/pandas/core/indexes/base.py:3791\u001b[0m, in \u001b[0;36mIndex.get_loc\u001b[0;34m(self, key)\u001b[0m\n\u001b[1;32m   3790\u001b[0m \u001b[38;5;28;01mtry\u001b[39;00m:\n\u001b[0;32m-> 3791\u001b[0m     \u001b[38;5;28;01mreturn\u001b[39;00m \u001b[38;5;28;43mself\u001b[39;49m\u001b[38;5;241;43m.\u001b[39;49m\u001b[43m_engine\u001b[49m\u001b[38;5;241;43m.\u001b[39;49m\u001b[43mget_loc\u001b[49m\u001b[43m(\u001b[49m\u001b[43mcasted_key\u001b[49m\u001b[43m)\u001b[49m\n\u001b[1;32m   3792\u001b[0m \u001b[38;5;28;01mexcept\u001b[39;00m \u001b[38;5;167;01mKeyError\u001b[39;00m \u001b[38;5;28;01mas\u001b[39;00m err:\n",
      "File \u001b[0;32mindex.pyx:152\u001b[0m, in \u001b[0;36mpandas._libs.index.IndexEngine.get_loc\u001b[0;34m()\u001b[0m\n",
      "File \u001b[0;32mindex.pyx:181\u001b[0m, in \u001b[0;36mpandas._libs.index.IndexEngine.get_loc\u001b[0;34m()\u001b[0m\n",
      "File \u001b[0;32mpandas/_libs/hashtable_class_helper.pxi:7080\u001b[0m, in \u001b[0;36mpandas._libs.hashtable.PyObjectHashTable.get_item\u001b[0;34m()\u001b[0m\n",
      "File \u001b[0;32mpandas/_libs/hashtable_class_helper.pxi:7088\u001b[0m, in \u001b[0;36mpandas._libs.hashtable.PyObjectHashTable.get_item\u001b[0;34m()\u001b[0m\n",
      "\u001b[0;31mKeyError\u001b[0m: 'evolution_stage'",
      "\nThe above exception was the direct cause of the following exception:\n",
      "\u001b[0;31mKeyError\u001b[0m                                  Traceback (most recent call last)",
      "Cell \u001b[0;32mIn[1], line 26\u001b[0m\n\u001b[1;32m     23\u001b[0m     \u001b[38;5;28;01mraise\u001b[39;00m \u001b[38;5;167;01mValueError\u001b[39;00m(\u001b[38;5;124m\"\u001b[39m\u001b[38;5;124mCharizard not found in the dataset.\u001b[39m\u001b[38;5;124m\"\u001b[39m)\n\u001b[1;32m     25\u001b[0m \u001b[38;5;66;03m# --- Step 2: Filter evolved first-generation Pokémon ---\u001b[39;00m\n\u001b[0;32m---> 26\u001b[0m evolved_first_gen \u001b[38;5;241m=\u001b[39m df[(df[gen_col] \u001b[38;5;241m==\u001b[39m \u001b[38;5;241m1\u001b[39m) \u001b[38;5;241m&\u001b[39m (\u001b[43mdf\u001b[49m\u001b[43m[\u001b[49m\u001b[43mevo_col\u001b[49m\u001b[43m]\u001b[49m \u001b[38;5;241m>\u001b[39m \u001b[38;5;241m1\u001b[39m)]\n\u001b[1;32m     28\u001b[0m \u001b[38;5;66;03m# Check if dataset has valid entries\u001b[39;00m\n\u001b[1;32m     29\u001b[0m \u001b[38;5;28;01mif\u001b[39;00m evolved_first_gen\u001b[38;5;241m.\u001b[39mempty:\n",
      "File \u001b[0;32m/opt/conda/envs/anaconda-ai-2024.04-py310/lib/python3.10/site-packages/pandas/core/frame.py:3893\u001b[0m, in \u001b[0;36mDataFrame.__getitem__\u001b[0;34m(self, key)\u001b[0m\n\u001b[1;32m   3891\u001b[0m \u001b[38;5;28;01mif\u001b[39;00m \u001b[38;5;28mself\u001b[39m\u001b[38;5;241m.\u001b[39mcolumns\u001b[38;5;241m.\u001b[39mnlevels \u001b[38;5;241m>\u001b[39m \u001b[38;5;241m1\u001b[39m:\n\u001b[1;32m   3892\u001b[0m     \u001b[38;5;28;01mreturn\u001b[39;00m \u001b[38;5;28mself\u001b[39m\u001b[38;5;241m.\u001b[39m_getitem_multilevel(key)\n\u001b[0;32m-> 3893\u001b[0m indexer \u001b[38;5;241m=\u001b[39m \u001b[38;5;28;43mself\u001b[39;49m\u001b[38;5;241;43m.\u001b[39;49m\u001b[43mcolumns\u001b[49m\u001b[38;5;241;43m.\u001b[39;49m\u001b[43mget_loc\u001b[49m\u001b[43m(\u001b[49m\u001b[43mkey\u001b[49m\u001b[43m)\u001b[49m\n\u001b[1;32m   3894\u001b[0m \u001b[38;5;28;01mif\u001b[39;00m is_integer(indexer):\n\u001b[1;32m   3895\u001b[0m     indexer \u001b[38;5;241m=\u001b[39m [indexer]\n",
      "File \u001b[0;32m/opt/conda/envs/anaconda-ai-2024.04-py310/lib/python3.10/site-packages/pandas/core/indexes/base.py:3798\u001b[0m, in \u001b[0;36mIndex.get_loc\u001b[0;34m(self, key)\u001b[0m\n\u001b[1;32m   3793\u001b[0m     \u001b[38;5;28;01mif\u001b[39;00m \u001b[38;5;28misinstance\u001b[39m(casted_key, \u001b[38;5;28mslice\u001b[39m) \u001b[38;5;129;01mor\u001b[39;00m (\n\u001b[1;32m   3794\u001b[0m         \u001b[38;5;28misinstance\u001b[39m(casted_key, abc\u001b[38;5;241m.\u001b[39mIterable)\n\u001b[1;32m   3795\u001b[0m         \u001b[38;5;129;01mand\u001b[39;00m \u001b[38;5;28many\u001b[39m(\u001b[38;5;28misinstance\u001b[39m(x, \u001b[38;5;28mslice\u001b[39m) \u001b[38;5;28;01mfor\u001b[39;00m x \u001b[38;5;129;01min\u001b[39;00m casted_key)\n\u001b[1;32m   3796\u001b[0m     ):\n\u001b[1;32m   3797\u001b[0m         \u001b[38;5;28;01mraise\u001b[39;00m InvalidIndexError(key)\n\u001b[0;32m-> 3798\u001b[0m     \u001b[38;5;28;01mraise\u001b[39;00m \u001b[38;5;167;01mKeyError\u001b[39;00m(key) \u001b[38;5;28;01mfrom\u001b[39;00m \u001b[38;5;21;01merr\u001b[39;00m\n\u001b[1;32m   3799\u001b[0m \u001b[38;5;28;01mexcept\u001b[39;00m \u001b[38;5;167;01mTypeError\u001b[39;00m:\n\u001b[1;32m   3800\u001b[0m     \u001b[38;5;66;03m# If we have a listlike key, _check_indexing_error will raise\u001b[39;00m\n\u001b[1;32m   3801\u001b[0m     \u001b[38;5;66;03m#  InvalidIndexError. Otherwise we fall through and re-raise\u001b[39;00m\n\u001b[1;32m   3802\u001b[0m     \u001b[38;5;66;03m#  the TypeError.\u001b[39;00m\n\u001b[1;32m   3803\u001b[0m     \u001b[38;5;28mself\u001b[39m\u001b[38;5;241m.\u001b[39m_check_indexing_error(key)\n",
      "\u001b[0;31mKeyError\u001b[0m: 'evolution_stage'"
     ]
    }
   ],
   "source": [
    "import pandas as pd\n",
    "import matplotlib.pyplot as plt\n",
    "import seaborn as sns\n",
    "\n",
    "# Load dataset\n",
    "df = pd.read_csv('pokemon.csv')\n",
    "\n",
    "# Standardize column names (optional)\n",
    "df.columns = df.columns.str.lower()\n",
    "\n",
    "# Define column names\n",
    "name_col = 'name'\n",
    "speed_col = 'speed'\n",
    "gen_col = 'generation'\n",
    "evo_col = 'evolution_stage'\n",
    "\n",
    "# --- Step 1: Get Charizard's speed ---\n",
    "charizard_row = df[df[name_col].str.lower() == 'charizard']\n",
    "if not charizard_row.empty:\n",
    "    charizard_speed = charizard_row.iloc[0][speed_col]\n",
    "    print(f\"\\nCharizard's speed: {charizard_speed}\")\n",
    "else:\n",
    "    raise ValueError(\"Charizard not found in the dataset.\")\n",
    "\n",
    "# --- Step 2: Filter evolved first-generation Pokémon ---\n",
    "evolved_first_gen = df[(df[gen_col] == 1) & (df[evo_col] > 1)]\n",
    "\n",
    "# Check if dataset has valid entries\n",
    "if evolved_first_gen.empty:\n",
    "    raise ValueError(\"No evolved first-generation Pokémon found in the dataset.\")\n",
    "\n",
    "# Calculate average speed\n",
    "avg_speed = evolved_first_gen[speed_col].mean()\n",
    "print(f\"Average speed of evolved first-generation Pokémon: {avg_speed:.2f}\")\n",
    "\n",
    "# --- Step 3: Compare ---\n",
    "diff = charizard_speed - avg_speed\n",
    "comparison = \"faster than\" if diff > 0 else \"slower than\" if diff < 0 else \"equal to\"\n",
    "print(f\"\\nCharizard is {abs(diff):.2f} speed points {comparison} the average evolved Gen 1 Pokémon.\")\n",
    "\n",
    "# --- Optional: Visualization ---\n",
    "plt.figure(figsize=(8, 5))\n",
    "sns.boxplot(data=evolved_first_gen, x=speed_col, color='lightgreen')\n",
    "plt.axvline(charizard_speed, color='red', linestyle='--', label=\"Charizard's Speed\")\n",
    "plt.title('Charizard vs Evolved Gen 1 Pokémon Speed')\n",
    "plt.xlabel('Speed')\n",
    "plt.legend()\n",
    "plt.grid(True)\n",
    "plt.tight_layout()\n",
    "plt.show()\n"
   ]
  },
  {
   "cell_type": "code",
   "execution_count": null,
   "id": "f59c4703-fc37-4af8-b842-ac812fc47d25",
   "metadata": {},
   "outputs": [],
   "source": []
  }
 ],
 "metadata": {
  "kernelspec": {
   "display_name": "anaconda-ai-2024.04-py310",
   "language": "python",
   "name": "conda-env-anaconda-ai-2024.04-py310-py"
  },
  "language_info": {
   "codemirror_mode": {
    "name": "ipython",
    "version": 3
   },
   "file_extension": ".py",
   "mimetype": "text/x-python",
   "name": "python",
   "nbconvert_exporter": "python",
   "pygments_lexer": "ipython3",
   "version": "3.10.13"
  }
 },
 "nbformat": 4,
 "nbformat_minor": 5
}
