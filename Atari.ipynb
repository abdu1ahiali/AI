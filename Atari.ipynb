{
 "cells": [
  {
   "cell_type": "markdown",
   "id": "ce233c2b-4fd9-4891-8f78-d3f881d68fc8",
   "metadata": {},
   "source": [
    "What is the average number of steps before the first reward is obtained across all successful episodes?"
   ]
  },
  {
   "cell_type": "markdown",
   "id": "6605a359-03b8-4b57-8c61-96c5f567401b",
   "metadata": {},
   "source": [
    "This program uses Gymnasium’s Atari Learning Environment (ALE) to run multiple episodes of the game “Superman”. In each episode, a random agent interacts with the environment by taking random actions. The script visualizes gameplay using Matplotlib and records the number of steps it takes to obtain the first reward."
   ]
  },
  {
   "cell_type": "code",
   "execution_count": null,
   "id": "083a8f50-902c-429b-9ee7-740a85bb1689",
   "metadata": {},
   "outputs": [
    {
     "data": {
      "image/png": "[encoded data removed]",
      "text/plain": [
       "<Figure size 600x800 with 1 Axes>"
      ]
     },
     "metadata": {},
     "output_type": "display_data"
    }
   ],
   "source": [
    "import gymnasium as gym\n",
    "import matplotlib.pyplot as plt\n",
    "from IPython.display import clear_output, display\n",
    "import time\n",
    "import ale_py\n",
    "import numpy as np\n",
    "\n",
    "# --- Create environment ---\n",
    "env = gym.make(\"ALE/Superman-v5\", render_mode=\"rgb_array\")\n",
    "\n",
    "n_episodes = 5       # Number of episodes to play\n",
    "max_steps = 1000     # Max steps per episode\n",
    "frame_delay = 0.03   # 30ms delay ≈ 33fps\n",
    "\n",
    "steps_to_reward = []\n",
    "\n",
    "# --- Prepare display ---\n",
    "fig, ax = plt.subplots(figsize=(6, 8))\n",
    "ax.axis(\"off\")\n",
    "\n",
    "for episode in range(n_episodes):\n",
    "    observation, info = env.reset()\n",
    "    total_reward = 0\n",
    "    got_reward = False\n",
    "\n",
    "    print(f\"\\n🎬 Episode {episode+1}/{n_episodes} starting...\")\n",
    "\n",
    "    for step in range(max_steps):\n",
    "        # Random action (replace with your own agent/policy if desired)\n",
    "        action = env.action_space.sample()\n",
    "        observation, reward, terminated, truncated, info = env.step(action)\n",
    "        total_reward += reward\n",
    "\n",
    "        # --- Visual update ---\n",
    "        frame = env.render()\n",
    "        clear_output(wait=True)\n",
    "        ax.clear()\n",
    "        ax.imshow(frame)\n",
    "        ax.set_title(f\"Episode {episode+1} | Step {step} | Total reward: {total_reward:.0f}\")\n",
    "        ax.axis(\"off\")\n",
    "        display(fig)\n",
    "        time.sleep(frame_delay)\n",
    "\n",
    "        # --- Record first reward ---\n",
    "        if reward != 0 and not got_reward:\n",
    "            steps_to_reward.append(step + 1)\n",
    "            got_reward = True\n",
    "            print(f\"💰 Reward obtained at step {step+1}\")\n",
    "\n",
    "        # --- End of episode ---\n",
    "        if terminated or truncated:\n",
    "            break\n",
    "\n",
    "    if not got_reward:\n",
    "        steps_to_reward.append(np.nan)\n",
    "        print(\"⚠️ No reward obtained this episode.\")\n",
    "\n",
    "plt.close(fig)\n",
    "env.close()\n",
    "\n",
    "# --- Report average ---\n",
    "valid_steps = [s for s in steps_to_reward if not np.isnan(s)]\n",
    "if valid_steps:\n",
    "    avg_steps = np.mean(valid_steps)\n",
    "    print(f\"\\n✅ Average steps to first reward: {avg_steps:.2f} (across {len(valid_steps)} successful episodes)\")\n",
    "else:\n",
    "    print(\"\\n⚠️ No rewards obtained in any episode.\")\n"
   ]
  },
  {
   "cell_type": "code",
   "execution_count": null,
   "id": "82eee245-fdbc-40eb-9809-7c32f1c280d1",
   "metadata": {},
   "outputs": [],
   "source": [
    "import numpy as np\n",
    "\n",
    "# Assuming 'steps_to_reward' was collected from the main simulation code\n",
    "\n",
    "# --- Filter valid results (episodes where a reward was obtained) ---\n",
    "valid_steps = [s for s in steps_to_reward if not np.isnan(s)]\n",
    "\n",
    "# --- Compute and display statistics ---\n",
    "if valid_steps:\n",
    "    avg_steps = np.mean(valid_steps)\n",
    "    median_steps = np.median(valid_steps)\n",
    "    min_steps = np.min(valid_steps)\n",
    "    max_steps = np.max(valid_steps)\n",
    "    std_steps = np.std(valid_steps)\n",
    "\n",
    "    print(\"📊 --- Reward Timing Statistics ---\")\n",
    "    print(f\"Number of successful episodes: {len(valid_steps)}\")\n",
    "    print(f\"Average steps to first reward: {avg_steps:.2f}\")\n",
    "    print(f\"Median steps to first reward:  {median_steps:.2f}\")\n",
    "    print(f\"Minimum steps:                {min_steps}\")\n",
    "    print(f\"Maximum steps:                {max_steps}\")\n",
    "    print(f\"Standard deviation:           {std_steps:.2f}\")\n",
    "\n",
    "    print(\"\\n✅ Conclusion:\")\n",
    "    print(f\"On average, the first reward was obtained after {avg_steps:.2f} steps \"\n",
    "          f\"across {len(valid_steps)} successful episodes.\")\n",
    "else:\n",
    "    print(\"⚠️ No rewards were obtained in any episode. Unable to compute average steps.\")\n"
   ]
  }
 ],
 "metadata": {
  "kernelspec": {
   "display_name": "anaconda-2024.02-py310",
   "language": "python",
   "name": "conda-env-anaconda-2024.02-py310-py"
  },
  "language_info": {
   "codemirror_mode": {
    "name": "ipython",
    "version": 3
   },
   "file_extension": ".py",
   "mimetype": "text/x-python",
   "name": "python",
   "nbconvert_exporter": "python",
   "pygments_lexer": "ipython3",
   "version": "3.10.14"
  }
 },
 "nbformat": 4,
 "nbformat_minor": 5
}
